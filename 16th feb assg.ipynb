{
 "cells": [
  {
   "cell_type": "code",
   "execution_count": null,
   "id": "8804d472-becd-4e18-b989-2c3d6ddb04f8",
   "metadata": {},
   "outputs": [],
   "source": [
    "************************************* 16th Feb Assg *************************************"
   ]
  },
  {
   "cell_type": "code",
   "execution_count": null,
   "id": "3ffda7de-f7b3-410c-a620-e21d982a48cf",
   "metadata": {},
   "outputs": [],
   "source": [
    "\"Q1. What is a database? Differentiate between SQL and NoSQL databases.\"\n",
    "Ans : \n",
    "    A database is a structured collection of data that is organized and stored for efficient retrieval,\n",
    "    manipulation, and management. It provides a systematic approach to storing, managing, and retrieving information.\n",
    "    \n",
    "    SQL Databases:\n",
    "\n",
    "    1. Relational model\n",
    "    2. Fixed schema\n",
    "    3. SQL query language\n",
    "    4. ACID compliance\n",
    "    \n",
    "    NoSQL Databases:\n",
    "\n",
    "    1. Non-relational model\n",
    "    2. Flexible schema\n",
    "    3. Various query languages\n",
    "    4. Scalability and performance focus"
   ]
  },
  {
   "cell_type": "code",
   "execution_count": null,
   "id": "383c938c-5f0b-4639-90aa-baa97854b236",
   "metadata": {},
   "outputs": [],
   "source": [
    "\"Q2. What is DDL? Explain why CREATE, DROP, ALTER, and TRUNCATE are used with an example.\"\n",
    "Ans : \n",
    "    DDL stands for Data Definition Language. It is a set of SQL commands used to define and \n",
    "    manage the structure of a database. DDL statements are responsible for creating, modifying, \n",
    "    and deleting database objects such as tables, indexes, views, and constraints. \n",
    "    \n",
    "    CREATE : The CREATE TABLE command creates a new table in the database.\n",
    "    e.g: CREATE TABLE Student(Roll INT,Name VARCHAR(20),Marks FLOAT);\n",
    "\n",
    "    DROP : The DROP TABLE command deletes a table in the database.\n",
    "    e.g: DROP TABLE Student;\n",
    "\n",
    "    ALTER: The ALTER TABLE command adds, deletes, or modifies columns in a table.\n",
    "    e.g: ALTER TABLE Student ADD Email VARCHAR(30);\n",
    "    ALTER TABLE Student DROP COULMN Email;\n",
    "    \n",
    "    TRUNCATE: The TRUNCATE TABLE command deletes the data inside a table, but not the table itself.\n",
    "    e.g: TRUNCATE TABLE Student;"
   ]
  },
  {
   "cell_type": "code",
   "execution_count": null,
   "id": "f45055a1-1f96-4543-ab16-75b90938fb5a",
   "metadata": {},
   "outputs": [],
   "source": [
    "\"Q3. What is DML? Explain INSERT, UPDATE, and DELETE with an example.\"\n",
    "Ans : \n",
    "    DML is an abbreviation of Data Manipulation Language.\n",
    "    The DML in DBMS is responsible for performing CRUD \n",
    "    (Create Read Update and Delete) operations on the data of the database table.\n",
    "    DML commands are INSERT, UPDATE, and DELETE.\n",
    "    \n",
    "    INSERT : INSERT is data manipulation command in Structured Query Language,\n",
    "             which allows users to insert data in database tables.\n",
    "    e.g: INSERT INTO Student (Stu_id, Stu_Name, Stu_Marks, Stu_Age) VALUES (435, Avinash, 93, 19);\n",
    "         INSERT INTO Student (Stu_id, Stu_Name, Stu_Marks, Stu_Age) VALUES (135, raju, 65, 19);\n",
    "\n",
    "    UPDATE : UPDATE is data manipulation command in Structured Query Language,\n",
    "             which allows users to update or modify the existing data in database tables.\n",
    "    e.g: UPDATE Student SET Stu_marks = 95 WHERE Stu_id = 435 ;  \n",
    "\n",
    "    DELETE : DELETE is a DML command which allows SQL users to remove \n",
    "             single or multiple existing records from the database tables.\n",
    "    e.g: DELETE FROM Student WHERE Stu_Marks > 70 ; "
   ]
  },
  {
   "cell_type": "code",
   "execution_count": null,
   "id": "2dfd4b28-c27b-425f-a503-77c6644841e3",
   "metadata": {},
   "outputs": [],
   "source": [
    "\"Q4. What is DQL? Explain SELECT with an example.\"\n",
    "Ans.\n",
    "    Data Query Languages, are computer languages that are used to make various\n",
    "    queries in information systems and databases. The Structured Query Language (SQL) is a \n",
    "    well-known example. DQL statements are used to query the data contained in schema objects.\n",
    "    \n",
    "    Syntax :  SELECT * FROM Name_of_Table WHERE [condition];\n",
    "    e.g :     SELECT * FROM Student WHERE Stu_Age > 18;"
   ]
  },
  {
   "cell_type": "code",
   "execution_count": null,
   "id": "26cd01ce-30ef-4c06-893c-0f70b9d0f948",
   "metadata": {},
   "outputs": [],
   "source": [
    "\"\"\"Q5. Explain Primary Key and Foreign Key?\"\"\"\n",
    "\n",
    "Ans.\n",
    "PRIMARY KEY : It is used to identify each record into the database table uniquely.\n",
    "              The primary key column value can never be NULL.\n",
    "              A table can have only one primary key.\n",
    "              The primary key is a unique attribute, it cannot stores duplicate values in relation.\n",
    "              It cannot create a parent-child relationship in a table.\n",
    "\n",
    "FORIGN KEY:  It is used to links two tables together. \n",
    "             It means the foreign key in one table refers to the primary key of another table.\n",
    "             The foreign key column can accept a NULL value.\n",
    "             A table can have more than one foreign key.\n",
    "             We can store duplicate values in the foreign key column.\n",
    "             It can make a parent-child relationship in a table.\n",
    "            "
   ]
  },
  {
   "cell_type": "code",
   "execution_count": null,
   "id": "71cf89e4-7019-4532-8655-89c050fbf25d",
   "metadata": {},
   "outputs": [],
   "source": [
    "\"Q6. Write a python code to connect MySQL to python. Explain the cursor() and execute() method.\"\n",
    "\n",
    "import mysql.connector\n",
    "\n",
    "mydb = mysql.connector.connect(\n",
    "    host = \"localhost\",\n",
    "    username = \"abc\",\n",
    "    password = \"password\"\n",
    ")\n",
    "\n",
    "mycursor = mydb.cursor()\n",
    "\n",
    "mycursor.execute(\"Create database if not exists test1\")\n",
    "mycursor.execute(\"Create table if not exists test1.Employee(Name varchar(10), id INT)\")\n",
    "\n",
    "cursor(): The cursor object can be defined as an abstraction specified in the Python DB-API 2.0.\n",
    "           It facilitates us to have multiple separate working environments through the same\n",
    "           connection to the database. We can create the cursor object by calling the 'cursor' \n",
    "           function of the connection object. The cursor object is an important aspect of \n",
    "            executing queries to the databases.\n",
    "            \n",
    "execute(): The Execute method executes a specified query, SQL statement, stored procedure, \n",
    "            or provider-specific text. The results are stored in a new Recordset object \n",
    "            if it is a row-returning query. A closed Recordset object will be returned \n",
    "            if it is not a row-returning query."
   ]
  },
  {
   "cell_type": "code",
   "execution_count": null,
   "id": "7b1dfac0-9bcb-4465-95ae-52a192c1270d",
   "metadata": {},
   "outputs": [],
   "source": [
    "\"\"\"Q7. Give the order of execution of SQL clauses in an SQL query?\"\"\"\n",
    "\n",
    "Ans.\n",
    "    1-------FROM---------Tables are joined to get the base data.\n",
    "    2-------WHERE--------The base data is filtered.\n",
    "    3-------GROUP BY-----The filtered base data is grouped.\n",
    "    4-------HAVING-------The grouped base data is filtered.\n",
    "    5-------SELECT-------The final data is returned.\n",
    "    6-------ORDER BY-----The final data is sorted.\n",
    "    7-------LIMIT--------The returned data is limited to row count."
   ]
  }
 ],
 "metadata": {
  "kernelspec": {
   "display_name": "Python 3 (ipykernel)",
   "language": "python",
   "name": "python3"
  },
  "language_info": {
   "codemirror_mode": {
    "name": "ipython",
    "version": 3
   },
   "file_extension": ".py",
   "mimetype": "text/x-python",
   "name": "python",
   "nbconvert_exporter": "python",
   "pygments_lexer": "ipython3",
   "version": "3.10.8"
  }
 },
 "nbformat": 4,
 "nbformat_minor": 5
}
