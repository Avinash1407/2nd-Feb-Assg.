{
 "cells": [
  {
   "cell_type": "code",
   "execution_count": null,
   "id": "765e7faf-3b37-4fad-b477-86cabe8c0baf",
   "metadata": {},
   "outputs": [],
   "source": [
    "                                            \"\"\"*** 12th feb'23 Assignment ***\"\"\""
   ]
  },
  {
   "cell_type": "code",
   "execution_count": null,
   "id": "bcf70941-c23b-44a9-9feb-729d9a9bba3d",
   "metadata": {},
   "outputs": [],
   "source": [
    "\"Q1 . What is an Exception in python? Write the difference between Exceptions and Syntax Errors ?\""
   ]
  },
  {
   "cell_type": "code",
   "execution_count": null,
   "id": "37b1e27c-9347-47f8-9623-6595041a39c2",
   "metadata": {},
   "outputs": [],
   "source": [
    "Ans : An exception in Python is an error that occurs during program execution. \n",
    "It disrupts the normal flow of the program and signals that something unexpected or \n",
    "incorrect has happened. Python provides built-in exception types to represent different types of \n",
    "errors, such as `TypeError` or `ValueError`. You can handle exceptions using try-except blocks to \n",
    "catch and respond to these errors gracefully, preventing the program from crashing. Handling \n",
    "exceptions allows you to take appropriate actions, such as displaying error messages or \n",
    "executing alternative code, to handle exceptional situations during program execution.\n",
    "\n",
    "Exceptions are errors that occur during the execution of a program, while syntax errors are errors in the \n",
    "code's structure that prevent it from being parsed and compiled. Exceptions can be handled using try-except blocks,\n",
    "allowing the program to respond to errors and continue running. They occur due to unexpected situations like invalid \n",
    "input or file not found. Syntax errors, on the other hand, occur due to mistakes in the code's syntax, such as missing parentheses\n",
    "or incorrect indentation. They need to be fixed before the program can be executed. Exceptions provide information about the error,\n",
    "while syntax errors need to be resolved by correcting the code."
   ]
  },
  {
   "cell_type": "code",
   "execution_count": null,
   "id": "8a8429b3-bb8e-4a8d-b420-ac5307f37dec",
   "metadata": {},
   "outputs": [],
   "source": [
    "\"\"\"\"Q2. What happens when a exception is not handled ? Explin with in example ?\"\"\"\n",
    "Ans.\n",
    "    When an exception occurred, if you don’t handle it, the program terminates abruptly and \n",
    "    the code past the line that caused the exception will not get executed."
   ]
  },
  {
   "cell_type": "code",
   "execution_count": 3,
   "id": "1b5d842a-5c3e-4b91-ac7a-fa60144a5e8b",
   "metadata": {},
   "outputs": [
    {
     "name": "stdout",
     "output_type": "stream",
     "text": [
      "division by zero\n"
     ]
    }
   ],
   "source": [
    "try:\n",
    "    10/0\n",
    "    print(\"code id correct\")\n",
    "except Exception as e:\n",
    "    print(e)"
   ]
  },
  {
   "cell_type": "code",
   "execution_count": null,
   "id": "ca883aab-8c07-44ef-bea9-e814751a72ed",
   "metadata": {},
   "outputs": [],
   "source": [
    "\"\"\"Q3. Which Python statements are used to catch and handle exceptions ? Explain with example ?\"\"\"\n",
    "Ans.\n",
    "    The try and except block in Python is used to catch and handle exceptions.    \n"
   ]
  },
  {
   "cell_type": "code",
   "execution_count": 5,
   "id": "3137e0c6-d3f5-4916-913f-459f303e09f4",
   "metadata": {},
   "outputs": [
    {
     "name": "stdout",
     "output_type": "stream",
     "text": [
      "list index out of range\n"
     ]
    }
   ],
   "source": [
    "try:\n",
    "    l=[2,3,5,7]\n",
    "    print(l[7])\n",
    "except IndexError as e:\n",
    "    print(e)"
   ]
  },
  {
   "cell_type": "code",
   "execution_count": 3,
   "id": "452ea426-ac27-422f-9267-503ab6324cdd",
   "metadata": {},
   "outputs": [
    {
     "name": "stdout",
     "output_type": "stream",
     "text": [
      "try and else:\n",
      "a + b : 30\n",
      "This will execute when try block is run properly\n"
     ]
    }
   ],
   "source": [
    "\"\"\"Q4. Explain with example:\n",
    "\n",
    "1.try and else\n",
    "2.finally\n",
    "3.raise                      \"\"\"\n",
    "\n",
    "print(\"try and else:\")\n",
    "try:\n",
    "    a,b=10,20\n",
    "    print(\"a + b :\",(a+b))\n",
    "except Exception as e:\n",
    "    print(e)\n",
    "else:\n",
    "    print(\"This will execute when try block is run properly\")"
   ]
  },
  {
   "cell_type": "code",
   "execution_count": 5,
   "id": "7e1d2a22-eed3-45e7-aae3-270b3104a8b0",
   "metadata": {},
   "outputs": [
    {
     "name": "stdout",
     "output_type": "stream",
     "text": [
      "Finally : \n",
      "Finally block will be excuted everytime\n"
     ]
    }
   ],
   "source": [
    "print(\"Finally : \")\n",
    "try :\n",
    "    with open(\"test.txt\",\"w\") as f:\n",
    "        f.write(\"hello everyone\")\n",
    "except Exception as f :\n",
    "    print(e)\n",
    "finally :\n",
    "    f.close()\n",
    "    print(\"Finally block will be excuted everytime\")"
   ]
  },
  {
   "cell_type": "code",
   "execution_count": 19,
   "id": "c18510f9-cc08-4766-b2ab-bac32693f909",
   "metadata": {},
   "outputs": [],
   "source": [
    "class validnum(Exception):\n",
    "    def __init__(self,num):\n",
    "        self.num = num"
   ]
  },
  {
   "cell_type": "code",
   "execution_count": 24,
   "id": "dd7de601-14a2-4598-a51b-1bc13008e3c6",
   "metadata": {},
   "outputs": [],
   "source": [
    "def validnumber(num):    \n",
    "    if num < 0 :\n",
    "        raise validnum(\"Number should be positive\")\n",
    "    else:\n",
    "        print(\"Number is valid\")"
   ]
  },
  {
   "cell_type": "code",
   "execution_count": 25,
   "id": "2886ebd1-1003-4d47-adfb-a310dac4ebe8",
   "metadata": {},
   "outputs": [
    {
     "name": "stdin",
     "output_type": "stream",
     "text": [
      "ENter a Number : -20\n"
     ]
    },
    {
     "name": "stdout",
     "output_type": "stream",
     "text": [
      "Number should be positive\n"
     ]
    }
   ],
   "source": [
    "try :\n",
    "    number = int(input(\"ENter a Number :\"))\n",
    "    validnumber(number)\n",
    "except validnum as f :\n",
    "    print(f)\n",
    "    "
   ]
  },
  {
   "cell_type": "code",
   "execution_count": null,
   "id": "37b99a01-4904-4098-bd2d-c3da5fb7f85a",
   "metadata": {},
   "outputs": [],
   "source": [
    "\"\"\"Q5. What are Custom Exceptions in python? Why do we need Custom Exceptions? Explin withn exmple\"\"\"\n",
    "\n",
    "Ans.\n",
    "    In Python, we can define custom exceptions by creating a new class that is derived from the built-in Exception class.\n",
    "    To catch and provide specific treatment to a subset of existing Python exceptions.\n"
   ]
  },
  {
   "cell_type": "code",
   "execution_count": 28,
   "id": "443922dc-fb93-4220-81e9-dd4a9837705b",
   "metadata": {},
   "outputs": [
    {
     "name": "stdout",
     "output_type": "stream",
     "text": [
      "This is my custom exception\n"
     ]
    }
   ],
   "source": [
    "class CustomException(Exception):\n",
    "    pass\n",
    "try:\n",
    "    raise CustomException('This is my custom exception')\n",
    "except CustomException as e:\n",
    "    print(e)"
   ]
  },
  {
   "cell_type": "code",
   "execution_count": 31,
   "id": "3e3fb9e9-328e-4f2e-867d-e3f5607c916f",
   "metadata": {},
   "outputs": [
    {
     "name": "stdin",
     "output_type": "stream",
     "text": [
      "Enter your age : 253\n"
     ]
    },
    {
     "name": "stdout",
     "output_type": "stream",
     "text": [
      "Age can't be very high\n"
     ]
    }
   ],
   "source": [
    "\"\"\"Q6. Create a custom exception class. Use this class to handle an exception ?\"\"\"\n",
    "class valid(Exception):\n",
    "    def __init__(self,msg):\n",
    "        self.msg=msg\n",
    "        \n",
    "def validage(age):\n",
    "    if age<0:\n",
    "        raise valid(\"Age can't be Negative\")\n",
    "    elif age > 110:\n",
    "        raise valid(\"Age can't be very high\")\n",
    "    else:\n",
    "        print(\"Valid age\")        \n",
    "        \n",
    "try:\n",
    "    age=int(input(\"Enter your age :\"))\n",
    "    validage(age)\n",
    "except valid as e:\n",
    "    print(e)\n"
   ]
  },
  {
   "cell_type": "code",
   "execution_count": null,
   "id": "ef095900-f84e-41b9-9bdf-f160fb360c4d",
   "metadata": {},
   "outputs": [],
   "source": []
  }
 ],
 "metadata": {
  "kernelspec": {
   "display_name": "Python 3 (ipykernel)",
   "language": "python",
   "name": "python3"
  },
  "language_info": {
   "codemirror_mode": {
    "name": "ipython",
    "version": 3
   },
   "file_extension": ".py",
   "mimetype": "text/x-python",
   "name": "python",
   "nbconvert_exporter": "python",
   "pygments_lexer": "ipython3",
   "version": "3.10.8"
  }
 },
 "nbformat": 4,
 "nbformat_minor": 5
}
