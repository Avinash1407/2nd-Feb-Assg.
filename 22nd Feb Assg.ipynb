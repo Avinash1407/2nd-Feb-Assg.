{
 "cells": [
  {
   "cell_type": "markdown",
   "id": "cb8b0489-c69a-4b73-9d6b-604ce270e3e8",
   "metadata": {},
   "source": [
    " ********************* 22nd Feb Assg ************************"
   ]
  },
  {
   "cell_type": "markdown",
   "id": "89ce872d-f40c-43e6-a1d4-9dea58ddcbbf",
   "metadata": {},
   "source": [
    "Q1. Create a Pandas Series that contains the following data: 4, 8, 15, 16, 23, and 42. Then, print the series."
   ]
  },
  {
   "cell_type": "code",
   "execution_count": 1,
   "id": "21ff4193-8558-405f-87be-5abebcb8e189",
   "metadata": {},
   "outputs": [],
   "source": [
    "import pandas as pd"
   ]
  },
  {
   "cell_type": "code",
   "execution_count": 2,
   "id": "28ac5be4-58ad-4552-8b33-888158fbc3c4",
   "metadata": {},
   "outputs": [
    {
     "data": {
      "text/plain": [
       "0     4\n",
       "1     8\n",
       "2    15\n",
       "3    16\n",
       "4    23\n",
       "5    42\n",
       "dtype: int64"
      ]
     },
     "execution_count": 2,
     "metadata": {},
     "output_type": "execute_result"
    }
   ],
   "source": [
    "pd.Series([4,8,15,16,23,42])"
   ]
  },
  {
   "cell_type": "markdown",
   "id": "b6fe56ab-3e3c-4a67-b6d2-30e5489419a6",
   "metadata": {},
   "source": [
    "Q2. Create a variable of list type containing 10 elements in it, and apply pandas.Series function on the\n",
    "variable print it."
   ]
  },
  {
   "cell_type": "code",
   "execution_count": 3,
   "id": "afb2496a-8805-43cc-a1f2-437fc8155b2d",
   "metadata": {},
   "outputs": [
    {
     "data": {
      "text/plain": [
       "0     1\n",
       "1     2\n",
       "2     3\n",
       "3     4\n",
       "4     5\n",
       "5     6\n",
       "6     7\n",
       "7     8\n",
       "8     9\n",
       "9    10\n",
       "dtype: int64"
      ]
     },
     "execution_count": 3,
     "metadata": {},
     "output_type": "execute_result"
    }
   ],
   "source": [
    "li = [1,2,3,4,5,6,7,8,9,10]\n",
    "\n",
    "pd.Series(li)"
   ]
  },
  {
   "cell_type": "markdown",
   "id": "a1aa7751-17ec-4aba-9d0f-9a5bb696b678",
   "metadata": {},
   "source": [
    "Q3. Create a Pandas DataFrame that contains the following data:"
   ]
  },
  {
   "attachments": {
    "f3726892-55d1-4c3b-b220-18de2e00447d.png": {
     "image/png": "[encoded data removed]"
    }
   },
   "cell_type": "markdown",
   "id": "5bc8e0fa-51c0-4692-9ee5-a67f55e3856d",
   "metadata": {},
   "source": [
    "![image.png](attachment:f3726892-55d1-4c3b-b220-18de2e00447d.png)"
   ]
  },
  {
   "cell_type": "markdown",
   "id": "42c5bd3d-6a00-4183-b882-cd01e2c1c703",
   "metadata": {},
   "source": [
    "Then, print the DataFrame."
   ]
  },
  {
   "cell_type": "code",
   "execution_count": 5,
   "id": "e4a45308-ef07-40af-8049-b8fb395f9c43",
   "metadata": {},
   "outputs": [],
   "source": [
    "data = {\n",
    "    \"name\" : [\"Alice\",\"Bob\",\"Claire\"],\n",
    "    \"Age\" : [25,30,27],\n",
    "    \"Gender\" : [\"Female\",\"Male\",\"Female\"]\n",
    "}\n",
    "\n",
    "df = pd.DataFrame(data)"
   ]
  },
  {
   "cell_type": "code",
   "execution_count": 6,
   "id": "505ab391-e7f1-4d34-b9f4-fefe01cd4362",
   "metadata": {},
   "outputs": [
    {
     "data": {
      "text/html": [
       "<div>\n",
       "<style scoped>\n",
       "    .dataframe tbody tr th:only-of-type {\n",
       "        vertical-align: middle;\n",
       "    }\n",
       "\n",
       "    .dataframe tbody tr th {\n",
       "        vertical-align: top;\n",
       "    }\n",
       "\n",
       "    .dataframe thead th {\n",
       "        text-align: right;\n",
       "    }\n",
       "</style>\n",
       "<table border=\"1\" class=\"dataframe\">\n",
       "  <thead>\n",
       "    <tr style=\"text-align: right;\">\n",
       "      <th></th>\n",
       "      <th>name</th>\n",
       "      <th>Age</th>\n",
       "      <th>Gender</th>\n",
       "    </tr>\n",
       "  </thead>\n",
       "  <tbody>\n",
       "    <tr>\n",
       "      <th>0</th>\n",
       "      <td>Alice</td>\n",
       "      <td>25</td>\n",
       "      <td>Female</td>\n",
       "    </tr>\n",
       "    <tr>\n",
       "      <th>1</th>\n",
       "      <td>Bob</td>\n",
       "      <td>30</td>\n",
       "      <td>Male</td>\n",
       "    </tr>\n",
       "    <tr>\n",
       "      <th>2</th>\n",
       "      <td>Claire</td>\n",
       "      <td>27</td>\n",
       "      <td>Female</td>\n",
       "    </tr>\n",
       "  </tbody>\n",
       "</table>\n",
       "</div>"
      ],
      "text/plain": [
       "     name  Age  Gender\n",
       "0   Alice   25  Female\n",
       "1     Bob   30    Male\n",
       "2  Claire   27  Female"
      ]
     },
     "execution_count": 6,
     "metadata": {},
     "output_type": "execute_result"
    }
   ],
   "source": [
    "df"
   ]
  },
  {
   "cell_type": "markdown",
   "id": "7bc6e060-130e-4f63-adc5-02a831d6230d",
   "metadata": {},
   "source": [
    "Q4. What is ‘DataFrame’ in pandas and how is it different from pandas.series? Explain with an example."
   ]
  },
  {
   "cell_type": "markdown",
   "id": "6eaa3dc1-bea7-4463-bc4c-cf1018bdac7d",
   "metadata": {},
   "source": [
    "Ans :\n",
    "     A DataFrame in pandas is a two-dimensional table-like data structure that stores tabular data. It consists of rows and columns, where each column is a pandas Series object representing a specific attribute or feature. A Series, on the other hand, is a one-dimensional labeled array that represents a single column or row of data."
   ]
  },
  {
   "cell_type": "code",
   "execution_count": 7,
   "id": "13846977-8db2-4795-b9eb-95e4b03df36a",
   "metadata": {},
   "outputs": [
    {
     "name": "stdout",
     "output_type": "stream",
     "text": [
      "    Name  Age Country\n",
      "0   John   25     USA\n",
      "1  Alice   30  Canada\n",
      "2    Bob   35      UK\n"
     ]
    }
   ],
   "source": [
    "import pandas as pd\n",
    "\n",
    "data = {\n",
    "    'Name': ['John', 'Alice', 'Bob'],\n",
    "    'Age': [25, 30, 35],\n",
    "    'Country': ['USA', 'Canada', 'UK']\n",
    "}\n",
    "\n",
    "df = pd.DataFrame(data)\n",
    "print(df)"
   ]
  },
  {
   "cell_type": "code",
   "execution_count": 8,
   "id": "e4634b0b-70ee-4310-a9b7-6774fdf79127",
   "metadata": {},
   "outputs": [
    {
     "name": "stdout",
     "output_type": "stream",
     "text": [
      "0    25\n",
      "1    30\n",
      "2    35\n",
      "Name: Age, dtype: int64\n"
     ]
    }
   ],
   "source": [
    "age_series = df['Age']\n",
    "\n",
    "print(age_series)"
   ]
  },
  {
   "cell_type": "markdown",
   "id": "c97e110f-a999-4226-9d04-0d28a5ae7857",
   "metadata": {},
   "source": [
    "Q5. What are some common functions you can use to manipulate data in a Pandas DataFrame? Can you give an example of when you might use one of these functions?"
   ]
  },
  {
   "cell_type": "markdown",
   "id": "72533bff-3956-404d-b59e-6f1e4a17caaa",
   "metadata": {},
   "source": [
    "Ans : \n",
    "    Some common functions in Pandas :\n",
    "    head(): Returns the first n rows of the DataFrame.\n",
    "    tail(): Returns the last n rows of the DataFrame.\n",
    "    info(): Provides a summary of the DataFrame, including the data types and   non-null counts.\n",
    "    describe(): Generates descriptive statistics of numerical columns in the   DataFrame.\n",
    "    sort_values(): Sorts the DataFrame based on one or more columns.\n",
    "    groupby(): Groups the DataFrame by one or more columns and allows for aggregation operations."
   ]
  },
  {
   "cell_type": "markdown",
   "id": "92e33c1b-4a79-4b94-8c36-c7cc757e25ea",
   "metadata": {},
   "source": [
    "Q6. Which of the following is mutable in nature Series, DataFrame, Panel?"
   ]
  },
  {
   "cell_type": "markdown",
   "id": "dc57bc7d-2b88-4efe-95ab-3b68d1fa3c99",
   "metadata": {},
   "source": [
    "Ans : \n",
    "    Both Series and DataFrame in pandas are mutable, while Panel is not recommended and has been deprecated."
   ]
  },
  {
   "cell_type": "markdown",
   "id": "995649be-72a5-4638-bcee-1158af9280ca",
   "metadata": {},
   "source": [
    "Q7. Create a DataFrame using multiple Series. Explain with an example."
   ]
  },
  {
   "cell_type": "code",
   "execution_count": 10,
   "id": "f21b4611-d29f-444d-aebb-5801184ab9b9",
   "metadata": {},
   "outputs": [
    {
     "name": "stdout",
     "output_type": "stream",
     "text": [
      "    Name  Age Country\n",
      "0   John   25     USA\n",
      "1  Alice   30  Canada\n",
      "2    Bob   35      UK\n"
     ]
    }
   ],
   "source": [
    "import pandas as pd\n",
    "\n",
    "name_series = pd.Series(['John', 'Alice', 'Bob'])\n",
    "age_series = pd.Series([25, 30, 35])\n",
    "country_series = pd.Series(['USA', 'Canada', 'UK'])\n",
    "\n",
    "data = {\n",
    "    'Name': name_series,\n",
    "    'Age': age_series,\n",
    "    'Country': country_series\n",
    "}\n",
    "\n",
    "df = pd.DataFrame(data)\n",
    "print(df)\n"
   ]
  },
  {
   "cell_type": "code",
   "execution_count": null,
   "id": "e2717a12-9a9e-47ef-9171-f4d5f0dc2e0f",
   "metadata": {},
   "outputs": [],
   "source": []
  }
 ],
 "metadata": {
  "kernelspec": {
   "display_name": "Python 3 (ipykernel)",
   "language": "python",
   "name": "python3"
  },
  "language_info": {
   "codemirror_mode": {
    "name": "ipython",
    "version": 3
   },
   "file_extension": ".py",
   "mimetype": "text/x-python",
   "name": "python",
   "nbconvert_exporter": "python",
   "pygments_lexer": "ipython3",
   "version": "3.10.8"
  }
 },
 "nbformat": 4,
 "nbformat_minor": 5
}
