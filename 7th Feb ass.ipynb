{
 "cells": [
  {
   "cell_type": "code",
   "execution_count": null,
   "id": "ec847901-5c7f-4de6-bdb2-2402049ba298",
   "metadata": {},
   "outputs": [],
   "source": [
    "\"\"\"Q1. You are writing code for a company. The requirement of the company is that you create a python\n",
    "function that will check whether the password entered by the user is correct or not. The function should\n",
    "take the password as input and return the string “Valid Password” if the entered password follows the\n",
    "below-given password guidelines else it should return “Invalid Password”.\n",
    "Note: 1. The Password should contain at least two uppercase letters and at least two lowercase letters.\n",
    "2. The Password should contain at least a number and three special characters.\n",
    "3. The length of the password should be 10 characters long.\"\"\""
   ]
  },
  {
   "cell_type": "code",
   "execution_count": 10,
   "id": "e67dbc75-c351-414c-b115-e940eebdd97c",
   "metadata": {},
   "outputs": [
    {
     "name": "stdin",
     "output_type": "stream",
     "text": [
      "ENTER PASSWORD :  AVinash#$%147\n"
     ]
    },
    {
     "data": {
      "text/plain": [
       "'Valid Password'"
      ]
     },
     "execution_count": 10,
     "metadata": {},
     "output_type": "execute_result"
    }
   ],
   "source": [
    "def pass_check(str):\n",
    "    up,lo,n,sp = 0,0,0,0\n",
    "    sp_char = \"[@_!#$%^&*()<>?/\\|}{~:]\"\n",
    "    for i in str:\n",
    "        if i.isupper():\n",
    "            up += 1\n",
    "        elif i.islower():\n",
    "            lo += 1\n",
    "        elif i in sp_char:\n",
    "            sp += 1\n",
    "        elif i.isdigit():\n",
    "            n += 1\n",
    "        else :\n",
    "            return \"Invalid Password\"\n",
    "    if len(str) < 10:\n",
    "        return \"Invalid Password\"\n",
    "    if up < 2 or lo < 2 or n < 1 or sp < 3 :\n",
    "        return \"Invalid Password\"\n",
    "    else:\n",
    "        return \"Valid Password\"\n",
    "\n",
    "\n",
    "password = input(\"ENTER PASSWORD : \")\n",
    "result = pass_check(password)\n",
    "result"
   ]
  },
  {
   "cell_type": "code",
   "execution_count": 5,
   "id": "f5e4e4d9-d69e-43b6-b0fd-98e056075638",
   "metadata": {},
   "outputs": [
    {
     "name": "stdin",
     "output_type": "stream",
     "text": [
      "Enter a String jnhk\n"
     ]
    },
    {
     "data": {
      "text/plain": [
       "False"
      ]
     },
     "execution_count": 5,
     "metadata": {},
     "output_type": "execute_result"
    }
   ],
   "source": [
    "\"Check if the string starts with a particular letter\"\n",
    "\n",
    "str = input(\"Enter a String\")\n",
    "\n",
    "a = lambda x : x.startswith(\"m\")\n",
    "a(str)"
   ]
  },
  {
   "cell_type": "code",
   "execution_count": 6,
   "id": "82ecf338-a93c-4092-a27a-34a2cedf2e46",
   "metadata": {},
   "outputs": [
    {
     "name": "stdin",
     "output_type": "stream",
     "text": [
      "Enter a String 1236\n"
     ]
    },
    {
     "data": {
      "text/plain": [
       "True"
      ]
     },
     "execution_count": 6,
     "metadata": {},
     "output_type": "execute_result"
    }
   ],
   "source": [
    "\"Check if the string is numeric\"\n",
    "\n",
    "str = input(\"Enter a String\")\n",
    "\n",
    "a = lambda x : x.isdigit()\n",
    "a(str)"
   ]
  },
  {
   "cell_type": "code",
   "execution_count": 8,
   "id": "cc7aee41-261f-42b1-be42-7bd36981a364",
   "metadata": {},
   "outputs": [
    {
     "data": {
      "text/plain": [
       "[('orange', 80), ('mango', 99), ('grapes', 1000)]"
      ]
     },
     "execution_count": 8,
     "metadata": {},
     "output_type": "execute_result"
    }
   ],
   "source": [
    "\"Sort a list of tuples having fruit names and their quantity. [('mango',99),('orange',80), ('grapes', 1000)\"\n",
    "\n",
    "l  = [(\"mango\",99),(\"orange\",80), (\"grapes\", 1000)]\n",
    "\n",
    "l.sort(key = lambda x:x[1])\n",
    "\n",
    "l"
   ]
  },
  {
   "cell_type": "code",
   "execution_count": 14,
   "id": "4af6bdb1-1b5d-4502-90f6-ea116c1f6380",
   "metadata": {},
   "outputs": [
    {
     "data": {
      "text/plain": [
       "[1, 4, 9, 16, 25, 36, 49, 64, 81, 100]"
      ]
     },
     "execution_count": 14,
     "metadata": {},
     "output_type": "execute_result"
    }
   ],
   "source": [
    "\"Find the squares of numbers from 1 to 10\"\n",
    "l = [i for i in range(1,11)]\n",
    "sqr = list(map(lambda x : x ** 2, l))\n",
    "sqr"
   ]
  },
  {
   "cell_type": "code",
   "execution_count": 15,
   "id": "60fac01b-e8d4-4f00-a562-fc73eeb0062e",
   "metadata": {},
   "outputs": [
    {
     "data": {
      "text/plain": [
       "[1, 8, 27, 64, 125, 216, 343, 512, 729, 1000]"
      ]
     },
     "execution_count": 15,
     "metadata": {},
     "output_type": "execute_result"
    }
   ],
   "source": [
    "\"Find the cube root of numbers from 1 to 10\"\n",
    "\n",
    "l = [i for i in range(1,11)]\n",
    "cube = list(map(lambda x : x ** 3, l))\n",
    "cube"
   ]
  },
  {
   "cell_type": "code",
   "execution_count": 17,
   "id": "595876d4-287d-44cb-944a-301fdb208599",
   "metadata": {},
   "outputs": [
    {
     "name": "stdin",
     "output_type": "stream",
     "text": [
      "Enter a number :  12\n"
     ]
    },
    {
     "name": "stdout",
     "output_type": "stream",
     "text": [
      "Even Number\n"
     ]
    }
   ],
   "source": [
    "\"Check if a given number is even\"\n",
    "num = int(input(\"Enter a number : \"))\n",
    "if num % 2 == 0:\n",
    "    print(\"Even Number\")\n",
    "else:\n",
    "    print(\"Not an Even Number\")"
   ]
  },
  {
   "cell_type": "code",
   "execution_count": 32,
   "id": "08a4047b-493f-48c8-b7d6-0c93770a3483",
   "metadata": {},
   "outputs": [
    {
     "data": {
      "text/plain": [
       "(1, 3, 5, 7, 9)"
      ]
     },
     "execution_count": 32,
     "metadata": {},
     "output_type": "execute_result"
    }
   ],
   "source": [
    "\"\"\"Filter odd numbers from the given list.\n",
    "[1,2,3,4,5,6,7,8,9,10]\"\"\"\n",
    "\n",
    "l1 = [1,2,3,4,5,6,7,8,9,10]\n",
    "\n",
    "odd = filter(lambda x : x % 2 != 0 , l1)\n",
    "odd\n",
    "tuple(odd)"
   ]
  },
  {
   "cell_type": "code",
   "execution_count": 39,
   "id": "af34bf3a-05a8-453c-b374-52318b24b470",
   "metadata": {},
   "outputs": [
    {
     "name": "stdout",
     "output_type": "stream",
     "text": [
      "Positive numbers: (1, 2, 3, 4, 5, 6)\n",
      "Negative numbers: (-1, -2, -3, -4, -5)\n"
     ]
    }
   ],
   "source": [
    "\"\"\"Sort a list of integers into positive and negative integers lists.\n",
    "[1,2,3,4,5,6,-1,-2,-3,-4,-5,0]\"\"\"\n",
    "\n",
    "numbers = [1, 2, 3, 4, 5, 6, -1, -2, -3, -4, -5, 0]\n",
    "\n",
    "positive_numbers = tuple(filter(lambda x: x > 0, numbers))\n",
    "negative_numbers = tuple(filter(lambda x: x < 0, numbers))\n",
    "\n",
    "print(\"Positive numbers:\", positive_numbers)\n",
    "print(\"Negative numbers:\", negative_numbers)\n"
   ]
  },
  {
   "cell_type": "code",
   "execution_count": null,
   "id": "2dc062de-3f42-4aa2-bff1-3280efaef7de",
   "metadata": {},
   "outputs": [],
   "source": []
  }
 ],
 "metadata": {
  "kernelspec": {
   "display_name": "Python 3 (ipykernel)",
   "language": "python",
   "name": "python3"
  },
  "language_info": {
   "codemirror_mode": {
    "name": "ipython",
    "version": 3
   },
   "file_extension": ".py",
   "mimetype": "text/x-python",
   "name": "python",
   "nbconvert_exporter": "python",
   "pygments_lexer": "ipython3",
   "version": "3.10.8"
  }
 },
 "nbformat": 4,
 "nbformat_minor": 5
}
