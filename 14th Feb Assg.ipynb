{
 "cells": [
  {
   "cell_type": "code",
   "execution_count": null,
   "id": "bf27cd50-7fe6-4659-893c-b933cd3d53e7",
   "metadata": {},
   "outputs": [],
   "source": [
    "************************************* 14th Feb Assg *************************************"
   ]
  },
  {
   "cell_type": "code",
   "execution_count": null,
   "id": "5bcda0bb-135c-4365-8813-bfe30f783e98",
   "metadata": {},
   "outputs": [],
   "source": [
    "\"\"\" what is multithreading in python? why is it used? Name the module used to handle threads in python\"\"\"\n",
    "Ans.\n",
    "    Multithreading is a threading technique in Python programming to run multiple threads concurrently \n",
    "    by rapidly switching between threads with a CPU help (called context switching).\n",
    "    \n",
    "    because Python on the Cpython interpreter does not support true multi-core execution via multithreading. \n",
    "    \n",
    "    import threading\n",
    "    The threading module is a high-level implementation of multithreading used to deploy an application in Python."
   ]
  },
  {
   "cell_type": "code",
   "execution_count": null,
   "id": "ecdec4ee-b8e2-4440-9786-4b35785e3de0",
   "metadata": {},
   "outputs": [],
   "source": [
    "\"\"\"Q2. Why threading module used? write the use of the following functions\n",
    "* activeCount()\n",
    "* currentThread()\n",
    "* enumerate()    \"\"\"\n",
    "\n",
    "Ans.\n",
    "    Python threading allows you to have different parts of your program run concurrently and can simplify your design.\n",
    "    \n",
    " * activeCount() − Returns the number of thread objects that are active. \n",
    " * currentThread() − Returns the number of thread objects in the caller's thread control.\n",
    " * enumerate() - function takes a collection (e.g. a tuple) and returns it as an enumerate object."
   ]
  },
  {
   "cell_type": "code",
   "execution_count": null,
   "id": "bb991316-ef96-4346-a347-e62e8d990056",
   "metadata": {},
   "outputs": [],
   "source": [
    "\"\"\"Q3. Explain the following functions\n",
    "* run()\n",
    "* start()\n",
    "* join()\n",
    "* isAlive() \"\"\"\n",
    "\n",
    "Ans.\n",
    "     run(): method executes any target function belonging to a given thread object that is now active.\n",
    "    start(): method is used to initiate the activity of a thread. \n",
    "             And it calls only once for each thread so that the execution of the thread can begin.\n",
    "    join(): method delays a program's flow of execution until the target thread has been completely read.\n",
    "    isAlive(): it is used to check whether that thread is alive or not, ie, it is still running or not. \n",
    "                This method returns True before the run() starts until just after the run() method is e"
   ]
  },
  {
   "cell_type": "code",
   "execution_count": 1,
   "id": "c3146f5f-f834-4cd4-90e7-efa1fe94e7f0",
   "metadata": {},
   "outputs": [
    {
     "name": "stdout",
     "output_type": "stream",
     "text": [
      "List of Square: [100, 81, 64, 49, 36, 25, 16, 9, 4, 1]\n",
      "List of Cube: [1000, 729, 512, 343, 216, 125, 64, 27, 8, 1]\n"
     ]
    }
   ],
   "source": [
    "\"\"\" Q4. Write a python program to create two threads. Thread one must print the list of squares and thread\n",
    "        two must print the list of cubes ? \"\"\"\n",
    "\n",
    "import threading\n",
    "\n",
    "lst = [10,9,8,7,6,5,4,3,2,1]\n",
    "def square():\n",
    "    sq = [i**2 for i in lst]\n",
    "    print(\"List of Square:\",sq)\n",
    "    \n",
    "def cube():\n",
    "    cu = [i**3 for i in lst]\n",
    "    print(\"List of Cube:\",cu)\n",
    "\n",
    "if __name__=='__main__':\n",
    "    the1 = threading.Thread(target=square)\n",
    "    the2 = threading.Thread(target=cube)\n",
    "    \n",
    "    the1.start()\n",
    "    the2.start()\n",
    "    the1.join()\n",
    "    the2.join()"
   ]
  },
  {
   "cell_type": "code",
   "execution_count": null,
   "id": "e87f9b4d-a024-4bb6-8c0a-8e823e1ea18d",
   "metadata": {},
   "outputs": [],
   "source": [
    "\"\"\"5. State advantages and disadvantages of multithreading\"\"\"\n",
    "Ans:\n",
    "    Multithreading can bring several advantages and disadvantages to a program. \n",
    "    Advantages of Multithreading:\n",
    "        1. Improved Performance: Multithreading allows concurrent execution of multiple threads,\n",
    "           which can lead to improved performance by utilizing the available CPU resources more efficiently. \n",
    "        2. Responsiveness and User Experience: Multithreading can enhance the responsiveness of an application,\n",
    "           especially in GUI-based programs.\n",
    "        3. Resource Sharing: Multithreading enables threads to share resources such as memory, file handles,\n",
    "           and network connections\n",
    "        4. Simplified Program Structure: Multithreading can simplify the design and structure of certain programs.\n",
    "    \n",
    "    Disadvantages of Multithreading:\n",
    "        1. Thread Synchronization: When multiple threads access shared resources concurrently, it introduces the \n",
    "           need for synchronization mechanisms to prevent race conditions and ensure data integrity.\n",
    "        2. Increased Complexity and Debugging: Multithreaded programs can be more challenging to develop, debug,\n",
    "           and test compared to single-threaded programs.\n",
    "        3. Overhead and Resource Consumption: Multithreading adds overhead due to thread creation, management,\n",
    "           and synchronization.\n",
    "        4. Limited CPU Utilization: While multithreading can improve performance, it is limited by the number \n",
    "           of available CPU cores.   \n",
    "            \n",
    "            \n",
    "            "
   ]
  },
  {
   "cell_type": "code",
   "execution_count": null,
   "id": "8e7deff6-482f-4613-a1b4-93ec2b42db03",
   "metadata": {},
   "outputs": [],
   "source": [
    "\"\"\"6. Explain deadlocks and race conditions.\"\"\"\n",
    "Ans:\n",
    "    Deadlock: A deadlock occurs when two or more threads are blocked indefinitely,\n",
    "              waiting for each other to release resources.\n",
    "    Race Condition: A race condition occurs when the behavior of a program depends on the interleaving or \n",
    "                    timing of multiple threads,and the result becomes unpredictable or incorrect. It arises\n",
    "                    when multiple threads access and modify shared data concurrently without proper synchronization."
   ]
  },
  {
   "cell_type": "code",
   "execution_count": 2,
   "id": "d25a6245-17e5-4b11-8dc1-f50f3ae51c9d",
   "metadata": {},
   "outputs": [
    {
     "name": "stdout",
     "output_type": "stream",
     "text": [
      "List of Square: [100, 81, 64, 49, 36, 25, 16, 9, 4, 1]\n",
      "List of Cube: [1000, 729, 512, 343, 216, 125, 64, 27, 8, 1]\n"
     ]
    }
   ],
   "source": [
    "import threading\n",
    "\n",
    "lst = [10,9,8,7,6,5,4,3,2,1]\n",
    "def square():\n",
    "    sq = [i**2 for i in lst]\n",
    "    print(\"List of Square:\",sq)\n",
    "    \n",
    "def cube():\n",
    "    cu = [i**3 for i in lst]\n",
    "    print(\"List of Cube:\",cu)\n",
    "\n",
    "\n",
    "the1 = threading.Thread(target=square)\n",
    "the2 = threading.Thread(target=cube)\n",
    "    \n",
    "the1.start()\n",
    "the2.start()\n",
    "the1.join()\n",
    "the2.join()"
   ]
  }
 ],
 "metadata": {
  "kernelspec": {
   "display_name": "Python 3 (ipykernel)",
   "language": "python",
   "name": "python3"
  },
  "language_info": {
   "codemirror_mode": {
    "name": "ipython",
    "version": 3
   },
   "file_extension": ".py",
   "mimetype": "text/x-python",
   "name": "python",
   "nbconvert_exporter": "python",
   "pygments_lexer": "ipython3",
   "version": "3.10.8"
  }
 },
 "nbformat": 4,
 "nbformat_minor": 5
}
