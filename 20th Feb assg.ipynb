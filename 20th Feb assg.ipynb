{
 "cells": [
  {
   "cell_type": "code",
   "execution_count": null,
   "id": "2b2ec68f-305f-4d92-9434-d740bf7de22f",
   "metadata": {},
   "outputs": [],
   "source": [
    "\"\"\"Q1. Explain GET and POST methods ?\"\"\"\n",
    "\n",
    "Ans.\n",
    "    GET: \n",
    "        It is used to retrieve data from a server. When a client sends a GET request,\n",
    "        it asks the server to provide a specific resource or information. \n",
    "        For example, when you enter a URL in your browser, a GET request is sent to \n",
    "        fetch the webpage associated with that URL. GET requests are typically used \n",
    "        for reading data, like retrieving blog posts or user profiles.\n",
    "        \n",
    "    POST: \n",
    "        It is used to send data to the server for processing or modification.\n",
    "        When a client sends a POST request, it submits data to the server.\n",
    "        For instance, when you submit a form on a website, the form data is sent to the server\n",
    "        using a POST request. The server can then use this data to create a new user account,\n",
    "        update a database, or perform other actions that involve modifying data."
   ]
  },
  {
   "cell_type": "code",
   "execution_count": null,
   "id": "5653e74e-33d0-4a13-912d-d8ff89142302",
   "metadata": {},
   "outputs": [],
   "source": [
    "\"\"\"Q2. Why is request used in Flask?\"\"\"\n",
    "\n",
    "Ans.\n",
    "    the 'request' object in Flask is a tool that helps your application interact with and extract\n",
    "    relevant data from incoming requests made by clients, allowing you to build dynamic & interactive web app.\n",
    "    \n",
    "    For example, if a client submits a form with data, you can use the 'request' object to access that form\n",
    "    data & perform actions like saving it to a database or processing it in some way. If a client \n",
    "    includes query parameters in the URL, you can use the 'request' object to extract & utilize those parameters."
   ]
  },
  {
   "cell_type": "code",
   "execution_count": null,
   "id": "a9cf74c7-0ae6-47b3-bfef-8908fdf20886",
   "metadata": {},
   "outputs": [],
   "source": [
    "\"\"\"Q3. Why is redirect() used in Flask ?\"\"\"\n",
    "\n",
    "Ans.\n",
    "    redirect() in Flask is used to send the users web browser to a different URL.\n",
    "    It is used when you want to guide the user from one page to another.\n",
    "    For example, after submitting a form, you can use redirect() to send the user to a \"thank you\" \n",
    "    page or to a different section of the website. Redirecting allows you to control the flow of the \n",
    "    application and provide a better user experience by automatically taking the user to the appropriate\n",
    "    destination without them needing to manually enter a new URL"
   ]
  },
  {
   "cell_type": "code",
   "execution_count": null,
   "id": "ebc3c8f2-0b57-42ce-9af1-b27592667b19",
   "metadata": {},
   "outputs": [],
   "source": [
    "\"\"\"Q4. What are templates in Flask? Why is the render_template() function used ?\"\"\"\n",
    "\n",
    "Ans.\n",
    "     templates in Flask are files that contain the structure and layout of web pages.\n",
    "    They are written in HTML, CSS, and may include placeholders for dynamic content. \n",
    "    \n",
    "    \n",
    "The render_template() function in Flask is used to combine a template file (containing HTML, CSS, etc.)\n",
    "with data from your Flask application and generate a complete HTML page as a response to the clients request.\n",
    "By using render_template(), you can pass variables and data from your Flask views (Python code) to the template,\n",
    "allowing you to customize the content & generate dynamic web pages tailored to the specific needs of each request. "
   ]
  },
  {
   "cell_type": "code",
   "execution_count": null,
   "id": "cb4e16d0-71b5-44d6-b229-f3fa10c0f9bc",
   "metadata": {},
   "outputs": [],
   "source": [
    "\"\"\"Q5. Create a simple API. Use Postman to test it. Attach the screenshot of the output in the Jupyter Notebook.\"\"\"\n",
    "\n",
    "from flask import Flask,request ,render_template , jsonify\n",
    "\n",
    "app = Flask(__name__)\n",
    "\n",
    "\n",
    "@app.route('/')\n",
    "def home_page():\n",
    "    return render_template('index.html')\n",
    "\n",
    "\n",
    "@app.route('/post_man',methods=['POST'])\n",
    "def math_ops():\n",
    "    if(request.method == 'POST'):\n",
    "        ops = request.json['operation']\n",
    "        num1 = int(request.json['num1'])\n",
    "        num2 = int(request.json['num2'])\n",
    "        if ops == 'add':\n",
    "            r = num1+num2\n",
    "            result = \"The sum of \" + str(num1) + 'and ' + str(num2) + \"is \" + str(r)\n",
    "        if ops == 'subtract':\n",
    "            r = num1-num2\n",
    "            result = \"The subtract of \" + str(num1) + 'and ' + str(num2) + \"is \" + str(r)\n",
    "        if ops == 'multiply':\n",
    "            r = num1*num2\n",
    "            result = \"The multiply of \" + str(num1) + 'and ' + str(num2) + \"is \" + str(r)\n",
    "        if ops == 'divide':\n",
    "            r = num1/num2\n",
    "            result = \"The divide of \" + str(num1) + 'and ' + str(num2) + \"is \" + str(r)\n",
    "            \n",
    "        return jsonify(result)\n",
    "    \n",
    "if __name__==\"__main__\":\n",
    "    app.run(host=\"0.0.0.0\")"
   ]
  },
  {
   "cell_type": "code",
   "execution_count": null,
   "id": "d6fda278-74d2-49fc-aead-1ad77e104c81",
   "metadata": {},
   "outputs": [],
   "source": [
    "Run this code.\n",
    "Then see the terminal.\n",
    "172.18.0.2 - - [01/Jun/2023 22:30:23] \"POST /postman_action HTTP/1.1\" 200 -\n",
    "\n",
    "Then you open new browser url copy the <url_link> + :5000\n",
    "output:\n",
    "Disgned show like HTML program.\n",
    "if,\n",
    "    num1 = 4\n",
    "    num2 = 2\n",
    "    operation : add\n",
    "\n",
    "The sum of 4 and 2 is :6"
   ]
  },
  {
   "cell_type": "code",
   "execution_count": null,
   "id": "4959c9b8-23ca-49a5-bb44-054e4ce9aa81",
   "metadata": {},
   "outputs": [],
   "source": []
  }
 ],
 "metadata": {
  "kernelspec": {
   "display_name": "Python 3 (ipykernel)",
   "language": "python",
   "name": "python3"
  },
  "language_info": {
   "codemirror_mode": {
    "name": "ipython",
    "version": 3
   },
   "file_extension": ".py",
   "mimetype": "text/x-python",
   "name": "python",
   "nbconvert_exporter": "python",
   "pygments_lexer": "ipython3",
   "version": "3.10.8"
  }
 },
 "nbformat": 4,
 "nbformat_minor": 5
}
