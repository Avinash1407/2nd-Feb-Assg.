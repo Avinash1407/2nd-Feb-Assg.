{
 "cells": [
  {
   "cell_type": "code",
   "execution_count": null,
   "id": "44e8a8ae-3b52-44f5-ab8a-1d82c1bff3e2",
   "metadata": {},
   "outputs": [],
   "source": [
    "******************************* 13th Feb Assignment **********************************"
   ]
  },
  {
   "cell_type": "code",
   "execution_count": null,
   "id": "d028287b-bd7e-4e33-88e1-56a435b3bec6",
   "metadata": {},
   "outputs": [],
   "source": [
    "\"\"\"Q1. Explain why we have to use the Exception class while creating a Custom Exception.\"\"\"\n",
    "Ans : \n",
    "    When creating a custom exception, we use the Exception class as the base because it provides important\n",
    "    functionalities like error message handling, stack trace information, and compatibility with the existing exception\n",
    "    handling mechanisms of the programming language. By inheriting from the Exception class, our\n",
    "    custom exception becomes a distinct type that can be caught and handled separately. It also\n",
    "    ensures consistency, standardization, and better communication with other developers."
   ]
  },
  {
   "cell_type": "code",
   "execution_count": null,
   "id": "287f245b-bac8-4636-a9b7-533c62af7c99",
   "metadata": {},
   "outputs": [],
   "source": [
    "\"\"\"Q2. Write a python program to print Python Exception Hierarchy.\"\"\""
   ]
  },
  {
   "cell_type": "code",
   "execution_count": 2,
   "id": "72c90ff6-7486-412a-9cd5-d3e692092344",
   "metadata": {},
   "outputs": [
    {
     "name": "stdin",
     "output_type": "stream",
     "text": [
      "Enetr a number : 25\n"
     ]
    },
    {
     "name": "stdout",
     "output_type": "stream",
     "text": [
      "This is positive number\n"
     ]
    }
   ],
   "source": [
    "class validmsg(Exception):\n",
    "    def __init__(self,msg):\n",
    "        self.msg=msg\n",
    "\n",
    "def validnum(num):\n",
    "    if num<0:\n",
    "        raise validmsg(\"This is negative number\")\n",
    "    elif num>=0:\n",
    "        raise validmsg(\"This is positive number\")\n",
    "    else:\n",
    "        print(\"Enter valid Number..!\")\n",
    "\n",
    "class positive(validmsg):\n",
    "    pass\n",
    "\n",
    "class Negative(validmsg):\n",
    "    pass\n",
    "try:\n",
    "    num=int(input(\"Enetr a number :\"))\n",
    "    validnum(num)\n",
    "except validmsg as e:\n",
    "    print(e)"
   ]
  },
  {
   "cell_type": "code",
   "execution_count": null,
   "id": "682b2c91-bef6-47fd-9241-c339dfcc6c24",
   "metadata": {},
   "outputs": [],
   "source": [
    "\"\"\"Q3. What errors are defined in the ArithmeticError class? Explain any two with an example.\"\"\"\n",
    "\n",
    "Ans : The errors that are defined in the ArithmeticError class are : \n",
    "        1 : ZeroDivisionError\n",
    "        2 : FloatingPointError"
   ]
  },
  {
   "cell_type": "code",
   "execution_count": 3,
   "id": "1140e51a-fe3c-447d-9699-1095c5c16906",
   "metadata": {},
   "outputs": [
    {
     "name": "stdout",
     "output_type": "stream",
     "text": [
      "division by zero\n"
     ]
    }
   ],
   "source": [
    "#zeroDivisionError\n",
    "try :\n",
    "    a = 5/0\n",
    "    print(a)\n",
    "except ArithmeticError as e :\n",
    "    print(e)"
   ]
  },
  {
   "cell_type": "code",
   "execution_count": 1,
   "id": "158cea36-5082-49eb-88ba-9fbd02d58168",
   "metadata": {},
   "outputs": [
    {
     "name": "stdout",
     "output_type": "stream",
     "text": [
      "Floating point number -->  52.36\n"
     ]
    }
   ],
   "source": [
    "#FloatingPointError\n",
    "try : \n",
    "    a = 52.36\n",
    "    print(\"Floating point number --> \",a)\n",
    "except FloatingPointError as e:\n",
    "    print(e)"
   ]
  },
  {
   "cell_type": "code",
   "execution_count": null,
   "id": "9d3fe829-7f39-4722-8062-941cef9218aa",
   "metadata": {},
   "outputs": [],
   "source": [
    "\"\"\"Q4. Why LookupError class is used? Explain with an example KeyError and IndexError.\"\"\"\n",
    "\n",
    "Ans.\n",
    "    The LookupError exception in Python forms the base class for all exceptions that are raised\n",
    "    when an index or a key is not found for a sequence or dictionary respectively."
   ]
  },
  {
   "cell_type": "code",
   "execution_count": 2,
   "id": "b2945cab-82eb-49ae-ab90-d9251e19101d",
   "metadata": {},
   "outputs": [
    {
     "name": "stdout",
     "output_type": "stream",
     "text": [
      "'green'\n"
     ]
    }
   ],
   "source": [
    "#KeyError\n",
    "try:\n",
    "    a = {\"red\":5 , \"Blue\" : 7}\n",
    "    print(a[\"green\"])\n",
    "except KeyError as e:\n",
    "    print(e)\n"
   ]
  },
  {
   "cell_type": "code",
   "execution_count": 4,
   "id": "3c99b64f-376d-423a-b734-89c2cd73fd5c",
   "metadata": {},
   "outputs": [
    {
     "name": "stdout",
     "output_type": "stream",
     "text": [
      "list index out of range\n"
     ]
    }
   ],
   "source": [
    "#IndexError\n",
    "\n",
    "try : \n",
    "    a = [1,2,3,6,5,8,9]\n",
    "    print(a[56])\n",
    "except IndexError as e:\n",
    "    print(e)\n",
    "    "
   ]
  },
  {
   "cell_type": "code",
   "execution_count": null,
   "id": "cd2847f9-4554-4475-b2a2-459197aad355",
   "metadata": {},
   "outputs": [],
   "source": [
    "\"\"\"Q5. Explain ImportError. What is ModuleNotFoundError?\"\"\"\n",
    "\n",
    "Ans.\n",
    "    In Python, ImportError occurs when the Python program tries to import module which does not exist in the private table.\n",
    "    This exception can be avoided using exception handling using try and except blocks. \n",
    "    We also saw examples of how the ImportError occurs and how it is handled."
   ]
  },
  {
   "cell_type": "code",
   "execution_count": 5,
   "id": "a278136c-2e0f-4dcf-af9d-fa987b982051",
   "metadata": {},
   "outputs": [
    {
     "name": "stdout",
     "output_type": "stream",
     "text": [
      "No module named 'bob'\n"
     ]
    }
   ],
   "source": [
    "try :\n",
    "    import bob\n",
    "    print(\"Hello\")\n",
    "except ImportError as e:\n",
    "    print(e)\n",
    "    "
   ]
  },
  {
   "cell_type": "code",
   "execution_count": null,
   "id": "66b81d9d-83e1-4302-8cb4-f53d9d1c223b",
   "metadata": {},
   "outputs": [],
   "source": [
    "\"\"\"Q6. List down some best practices for exception handling in python.\"\"\"\n",
    "\n",
    "Ans :  1: Always write the main Exception class before anyother excception then it not \n",
    "      work so first write the custom exception then main Exception."
   ]
  },
  {
   "cell_type": "code",
   "execution_count": 6,
   "id": "d0b214ee-40bb-4230-917a-b1e553408f25",
   "metadata": {},
   "outputs": [
    {
     "name": "stdout",
     "output_type": "stream",
     "text": [
      "division by zero\n"
     ]
    }
   ],
   "source": [
    "try :\n",
    "    a = 5/0\n",
    "    print(a)\n",
    "except ArithmeticError as e:\n",
    "    print(e)\n",
    "except FileNotFoundError as e :\n",
    "    print(e)\n",
    "except Exception as e:\n",
    "    print(e)"
   ]
  },
  {
   "cell_type": "code",
   "execution_count": 7,
   "id": "b3c1d3e3-73d1-4dfe-b14f-ec428983ef60",
   "metadata": {},
   "outputs": [],
   "source": [
    "#2. You can write the exception inside a Function\n",
    "def test(num1,num2):\n",
    "    try:\n",
    "        a = num1/num2\n",
    "        print(a)\n",
    "    except ArithmeticError as e:\n",
    "        print(e)"
   ]
  },
  {
   "cell_type": "code",
   "execution_count": 8,
   "id": "7299f3b3-7a3d-43cc-8eb6-7acf9452b1bd",
   "metadata": {},
   "outputs": [
    {
     "name": "stdout",
     "output_type": "stream",
     "text": [
      "division by zero\n"
     ]
    }
   ],
   "source": [
    "test(5,0)\n"
   ]
  },
  {
   "cell_type": "code",
   "execution_count": 10,
   "id": "c699d422-4b20-4264-94ac-d74b66b6c1ed",
   "metadata": {},
   "outputs": [],
   "source": [
    "#3. Always close the opened file for writing where it works or not\n",
    "\n",
    "try:\n",
    "    with open(\"Test.txt\",\"w\") as f:\n",
    "        f.write(\"Hello! How are you\")\n",
    "except FileNotFoundError as e:\n",
    "    print(e)\n",
    "finally:\n",
    "    f.close()"
   ]
  },
  {
   "cell_type": "code",
   "execution_count": null,
   "id": "e5b19d96-37bc-46bf-a454-3aa2ab8981bb",
   "metadata": {},
   "outputs": [],
   "source": []
  }
 ],
 "metadata": {
  "kernelspec": {
   "display_name": "Python 3 (ipykernel)",
   "language": "python",
   "name": "python3"
  },
  "language_info": {
   "codemirror_mode": {
    "name": "ipython",
    "version": 3
   },
   "file_extension": ".py",
   "mimetype": "text/x-python",
   "name": "python",
   "nbconvert_exporter": "python",
   "pygments_lexer": "ipython3",
   "version": "3.10.8"
  }
 },
 "nbformat": 4,
 "nbformat_minor": 5
}
