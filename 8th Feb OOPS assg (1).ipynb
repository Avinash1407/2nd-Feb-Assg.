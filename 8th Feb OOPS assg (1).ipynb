{
 "cells": [
  {
   "cell_type": "code",
   "execution_count": null,
   "id": "34c6f391-ccb4-438c-8212-e68abfa3a7fd",
   "metadata": {},
   "outputs": [],
   "source": [
    "                                  ******OPPs*****"
   ]
  },
  {
   "cell_type": "code",
   "execution_count": 2,
   "id": "24d7607b-cde7-48cb-9991-0582acfd1492",
   "metadata": {},
   "outputs": [
    {
     "name": "stdout",
     "output_type": "stream",
     "text": [
      "Bow\n",
      "Meow\n"
     ]
    }
   ],
   "source": [
    "\"\"\"Q1. What is Abstraction in OOps? Explain with an example.\"\"\"\n",
    "\n",
    "\"\"\"Abstraction is a fundamental concept in Object-Oriented Programming (OOPs) that refers to the process of \n",
    "hiding complex implementation details and providing a simplified interface for interacting with an object or class.\"\"\"\n",
    "\n",
    "import abc\n",
    "\n",
    "class Animal():\n",
    "    @abc.abstractclassmethod\n",
    "    def make_sound(self):\n",
    "        pass\n",
    "\n",
    "class Dog(Animal):\n",
    "    def make_sound(self):\n",
    "        print(\"Bow\")\n",
    "\n",
    "class Cat(Animal):\n",
    "    def make_sound(self):\n",
    "        print(\"Meow\")\n",
    "\n",
    "dog = Dog()\n",
    "dog.make_sound() \n",
    "\n",
    "cat = Cat()\n",
    "cat.make_sound() \n"
   ]
  },
  {
   "cell_type": "code",
   "execution_count": 4,
   "id": "115174ec-8b15-4f6d-b5f8-b6e663ca345b",
   "metadata": {},
   "outputs": [
    {
     "name": "stdout",
     "output_type": "stream",
     "text": [
      "Toyota\n",
      "Corolla\n",
      "2022\n",
      "Starting engine...\n"
     ]
    }
   ],
   "source": [
    "'''Q2. Differentiate between Abstraction and Encapsulation. Explain with an example.'''\n",
    "\n",
    "\"\"\"Abstraction refers to the process of hiding complex implementation details and providing a simplified interface for \n",
    "interacting with an object or class. It focuses on what the object or class does, rather than how it does it.\"\"\"\n",
    "\n",
    "\"\"\"Encapsulation, on the other hand, refers to the process of wrapping data and code together into a single unit and controlling access \n",
    "to that unit. It prevents the direct access to the internal state of an object and allows access only through methods or properties\n",
    "defined by the class.\"\"\"\n",
    "\n",
    "class Car:\n",
    "    def __init__(self, make, model, year):\n",
    "        self.__make = make  \n",
    "        self.__model = model  \n",
    "        self.__year = year  \n",
    "\n",
    "    def get_make(self):  \n",
    "        return self.__make\n",
    "\n",
    "    def get_model(self):\n",
    "        return self.__model\n",
    "\n",
    "    def get_year(self): \n",
    "        return self.__year\n",
    "\n",
    "    def start_engine(self):  \n",
    "        print(\"Starting engine...\")\n",
    "\n",
    "car = Car(\"Toyota\", \"Corolla\", 2022)\n",
    "print(car.get_make()) \n",
    "print(car.get_model())\n",
    "print(car.get_year())  \n",
    "car.start_engine()  \n"
   ]
  },
  {
   "cell_type": "code",
   "execution_count": 5,
   "id": "b16099db-c5eb-4c86-abee-724079ac3765",
   "metadata": {},
   "outputs": [
    {
     "name": "stdout",
     "output_type": "stream",
     "text": [
      "78.5\n",
      "16\n"
     ]
    }
   ],
   "source": [
    "\"\"\"Q3. What is abc module in python? Why is it used?\"\"\"\n",
    "\n",
    "\"\"\"The abc module in Python stands for Abstract Base Classes, and it provides a way to define abstract base classes that enforce a \n",
    "certain interface on its subclasses. It is used to implement abstract classes in Python, which are classesthat cannot be instantiated \n",
    "directly and must be subclassed to be used.\"\"\"\n",
    "\n",
    "from abc import ABC, abstractmethod\n",
    "\n",
    "class Shape(ABC):\n",
    "    @abstractmethod\n",
    "    def area(self):\n",
    "        pass\n",
    "\n",
    "    @abstractmethod\n",
    "    def perimeter(self):\n",
    "        pass\n",
    "\n",
    "class Circle(Shape):\n",
    "    def __init__(self, radius):\n",
    "        self.radius = radius\n",
    "\n",
    "    def area(self):\n",
    "        return 3.14 * self.radius ** 2\n",
    "\n",
    "    def perimeter(self):\n",
    "        return 2 * 3.14 * self.radius\n",
    "\n",
    "class Square(Shape):\n",
    "    def __init__(self, side):\n",
    "        self.side = side\n",
    "\n",
    "    def area(self):\n",
    "        return self.side ** 2\n",
    "\n",
    "    def perimeter(self):\n",
    "        return 4 * self.side\n",
    "\n",
    "circle = Circle(5)\n",
    "square = Square(4)\n",
    "\n",
    "print(circle.area())  \n",
    "print(square.perimeter()) \n"
   ]
  },
  {
   "cell_type": "code",
   "execution_count": null,
   "id": "b61a2fea-6ecb-405e-bb33-cbe0415ca055",
   "metadata": {},
   "outputs": [],
   "source": [
    "\"\"\"Q4. How can we achieve data abstraction?\"\"\"\n",
    "\n",
    "\"\"\"\n",
    "In object-oriented programming, data abstraction is the process of hiding implementation details \n",
    "while showing only the necessary information to the user. \n",
    "\n",
    "In python it is done through:\n",
    "1. Inheritance\n",
    "2. Abstraction\n",
    "3. Encapsulation\n",
    "\"\"\""
   ]
  },
  {
   "cell_type": "code",
   "execution_count": null,
   "id": "898c7155-e14c-42db-9b79-a883d75fdc9e",
   "metadata": {},
   "outputs": [],
   "source": [
    "Q5. Can we create an instance of an abstract class? Explain your answer."
   ]
  },
  {
   "cell_type": "code",
   "execution_count": null,
   "id": "9a55112f-050b-4084-beb1-15a5d4e6299a",
   "metadata": {},
   "outputs": [],
   "source": [
    "No, we cannot create an instance of an abstract class in Python. An abstract class is a class that contains one or more abstract methods,\n",
    "which are methods that do not have any implementation in the abstract class itself. \n",
    "Instead, they are defined as placeholders that must be implemented in the concrete subclasses of the abstract class."
   ]
  }
 ],
 "metadata": {
  "kernelspec": {
   "display_name": "Python 3 (ipykernel)",
   "language": "python",
   "name": "python3"
  },
  "language_info": {
   "codemirror_mode": {
    "name": "ipython",
    "version": 3
   },
   "file_extension": ".py",
   "mimetype": "text/x-python",
   "name": "python",
   "nbconvert_exporter": "python",
   "pygments_lexer": "ipython3",
   "version": "3.10.8"
  }
 },
 "nbformat": 4,
 "nbformat_minor": 5
}
