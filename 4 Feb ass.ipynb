{
 "cells": [
  {
   "cell_type": "code",
   "execution_count": null,
   "id": "ceea9870-681b-4845-80e5-ea9724261a9c",
   "metadata": {},
   "outputs": [],
   "source": [
    "\"Q1. Create a python program to sort the given list of tuples based on integer value using a lambda function.\""
   ]
  },
  {
   "cell_type": "code",
   "execution_count": 21,
   "id": "74e15625-b4dd-4ec3-b811-d3df85662838",
   "metadata": {},
   "outputs": [
    {
     "name": "stdout",
     "output_type": "stream",
     "text": [
      "[('Virat Kohli', 24936), ('Jack Kallis', 25534), ('Ricky Ponting', 27483), ('Sachin Tendulkar', 34357)]\n"
     ]
    }
   ],
   "source": [
    "players = [('Sachin Tendulkar', 34357), ('Ricky Ponting', 27483), ('Virat Kohli', 24936), ('Jack Kallis', 25534)]\n",
    "\n",
    "sorted_players = sorted(players, key=lambda x: x[1],reverse = False)\n",
    "\n",
    "print(sorted_players)\n"
   ]
  },
  {
   "cell_type": "code",
   "execution_count": null,
   "id": "8a4425b0-9e87-4b17-8d19-ded0f4f01ed5",
   "metadata": {},
   "outputs": [],
   "source": []
  },
  {
   "cell_type": "code",
   "execution_count": null,
   "id": "cce96bce-6657-4678-b512-e41216954c96",
   "metadata": {},
   "outputs": [],
   "source": [
    "\"Q2. Write a Python Program to find the squares of all the numbers in the given list of integers using lambda and map functions.\""
   ]
  },
  {
   "cell_type": "code",
   "execution_count": 4,
   "id": "ec4013b3-d133-409a-947e-14a66c014b06",
   "metadata": {},
   "outputs": [
    {
     "data": {
      "text/plain": [
       "[1, 4, 9, 16, 25, 36, 49, 64, 81, 100]"
      ]
     },
     "execution_count": 4,
     "metadata": {},
     "output_type": "execute_result"
    }
   ],
   "source": [
    "l = [1, 2, 3, 4, 5, 6, 7, 8, 9, 10]\n",
    "list(map(lambda a:a**2,l))"
   ]
  },
  {
   "cell_type": "code",
   "execution_count": null,
   "id": "74922dbf-3437-4803-8737-5063a9bc902f",
   "metadata": {},
   "outputs": [],
   "source": [
    "\"Q3. Write a python program to convert the given list of integers into a tuple of strings. Use map and lambda functions\""
   ]
  },
  {
   "cell_type": "code",
   "execution_count": 8,
   "id": "02ca190b-3359-4745-baa9-0f0ce01e586f",
   "metadata": {},
   "outputs": [
    {
     "data": {
      "text/plain": [
       "('1', '2', '3', '4', '5', '6', '7', '8', '9', '10')"
      ]
     },
     "execution_count": 8,
     "metadata": {},
     "output_type": "execute_result"
    }
   ],
   "source": [
    "l = [1, 2, 3, 4, 5, 6, 7, 8, 9, 10]\n",
    "tuple(map(lambda a:str(a),l))"
   ]
  },
  {
   "cell_type": "code",
   "execution_count": null,
   "id": "c8801349-2ae7-4e3a-b6f1-8c3149f3fbf7",
   "metadata": {},
   "outputs": [],
   "source": [
    "\"Q4. Write a python program using reduce function to compute the product of a list containing numbers from 1 to 25.\""
   ]
  },
  {
   "cell_type": "code",
   "execution_count": 10,
   "id": "6335bb0b-2e0c-4570-bf5a-a04eef5d1b30",
   "metadata": {},
   "outputs": [],
   "source": [
    "from functools import reduce"
   ]
  },
  {
   "cell_type": "code",
   "execution_count": 12,
   "id": "7d2a0b6f-e83c-4a35-af89-0dd7d4eb4ae1",
   "metadata": {},
   "outputs": [
    {
     "data": {
      "text/plain": [
       "15511210043330985984000000"
      ]
     },
     "execution_count": 12,
     "metadata": {},
     "output_type": "execute_result"
    }
   ],
   "source": [
    "reduce(lambda x,y : x*y,range(1,26))"
   ]
  },
  {
   "cell_type": "code",
   "execution_count": null,
   "id": "c62f3c23-587b-4160-8e26-64f3a1c9a516",
   "metadata": {},
   "outputs": [],
   "source": [
    "\"Q5. Write a python program to filter the numbers in a given list that are divisible by 2 and 3 using the filter function.\""
   ]
  },
  {
   "cell_type": "code",
   "execution_count": 13,
   "id": "685fbf5c-d3a0-4d15-afff-4246351a6024",
   "metadata": {},
   "outputs": [
    {
     "data": {
      "text/plain": [
       "[6, 60, 90, 120]"
      ]
     },
     "execution_count": 13,
     "metadata": {},
     "output_type": "execute_result"
    }
   ],
   "source": [
    "l = [2, 3, 6, 9, 27, 60, 90, 120, 55, 46]\n",
    "list(filter(lambda a : a % 2 == 0 and a % 3 ==0,l))"
   ]
  },
  {
   "cell_type": "code",
   "execution_count": null,
   "id": "ff2ed317-9782-4625-95e9-8c9a8e8a682f",
   "metadata": {},
   "outputs": [],
   "source": [
    "\"Q6. Write a python program to find palindromes in the given list of strings using lambda and filter function.\""
   ]
  },
  {
   "cell_type": "code",
   "execution_count": 19,
   "id": "d48d16ae-8214-402c-bb0b-a078bf136dfe",
   "metadata": {},
   "outputs": [
    {
     "data": {
      "text/plain": [
       "['php', 'aba', 'radar', 'level']"
      ]
     },
     "execution_count": 19,
     "metadata": {},
     "output_type": "execute_result"
    }
   ],
   "source": [
    "l = ['python', 'php', 'aba', 'radar', 'level']\n",
    "list(filter(lambda a :a[::-1] == a,l))"
   ]
  }
 ],
 "metadata": {
  "kernelspec": {
   "display_name": "Python 3 (ipykernel)",
   "language": "python",
   "name": "python3"
  },
  "language_info": {
   "codemirror_mode": {
    "name": "ipython",
    "version": 3
   },
   "file_extension": ".py",
   "mimetype": "text/x-python",
   "name": "python",
   "nbconvert_exporter": "python",
   "pygments_lexer": "ipython3",
   "version": "3.10.8"
  }
 },
 "nbformat": 4,
 "nbformat_minor": 5
}
