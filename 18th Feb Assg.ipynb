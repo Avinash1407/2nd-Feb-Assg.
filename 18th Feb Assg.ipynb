{
 "cells": [
  {
   "cell_type": "code",
   "execution_count": null,
   "id": "6af7580a-1ec2-4362-bff1-0c5d4e212659",
   "metadata": {},
   "outputs": [],
   "source": [
    "\"Q1. What is an API? Give an example, where an API is used in real life.\"\n",
    "Ans : \n",
    "    An API, which stands for Application Programming Interface, is a set of rules and protocols \n",
    "    that allows different software applications to communicate with each other. It defines how \n",
    "    different components of software systems should interact, enabling developers to access certain \n",
    "    features or data from another application, service, or platform.\n",
    "\n",
    "    An example of API usage in real life is the integration of third-party applications with social\n",
    "    media platforms. For instance, Facebook provides an API that allows developers to interact with \n",
    "    their platform and build applications that can access user data, post updates, and perform various \n",
    "    actions on behalf of users. This API enables developers to create Facebook login functionality on \n",
    "    their websites or develop applications that can share content directly to Facebook. By utilizing the\n",
    "    Facebook API, developers can leverage the existing infrastructure and capabilities of the social \n",
    "    media platform in their own applications, enhancing the user experience and expanding the functionality of their software."
   ]
  },
  {
   "cell_type": "code",
   "execution_count": null,
   "id": "29a5b244-e107-420f-accc-1c19e473c221",
   "metadata": {},
   "outputs": [],
   "source": [
    "\"Q2. Give advantages and disadvantages of using API.\"\n",
    "\n",
    "Ans :\n",
    "\n",
    "Advantages of using APIs:\n",
    "\n",
    "1. Modularity and code reusability.\n",
    "2. Improved development efficiency.\n",
    "3. Integration and interoperability between systems.\n",
    "4. Access to third-party services.\n",
    "5. Scalability of applications.\n",
    "\n",
    "Disadvantages of using APIs:\n",
    "\n",
    "1. Dependency on external systems.\n",
    "2. Security risks if not implemented properly.\n",
    "3. Versioning and compatibility challenges.\n",
    "4. Limited control over API changes.\n",
    "5. Performance considerations."
   ]
  },
  {
   "cell_type": "code",
   "execution_count": null,
   "id": "f81ea65a-e824-4ac0-b05e-d8740325b366",
   "metadata": {},
   "outputs": [],
   "source": [
    "\"Q3. What is a Web API? Differentiate between API and Web API.\"\n",
    "\n",
    "Ans :\n",
    "    A Web API, also known as a web service API, is an API specifically designed for communication over the \n",
    "    web using standard web protocols such as HTTP. It enables interaction between different software systems, \n",
    "    allowing them to exchange data and perform actions over the internet.\n",
    "    \n",
    "    API :\n",
    " i.  A set of rules and protocols for communication and interaction between software applications.\n",
    " ii. Can be used in various contexts, such as OS, DB, hardware devices, or within a single application.\n",
    "iii. Can enable communication between different software components or systems.\n",
    " iv. Not limited to a specific protocol; can use various protocols like HTTP, TCP, or proprietary protocols.\n",
    "    \n",
    "    WEBAPI :\n",
    " i.  An API specifically designed to be accessed over the internet using the HTTP protocol.\n",
    " ii. Focuses on enabling communication between web-based client applications and server-side applications.\n",
    "iii. Enables comm. b/w client app. (e.g., web browsers, mobile apps) and server-side app. over the internet.\n",
    " iv. Primarily uses the HTTP protocol for data exchange and communication."
   ]
  },
  {
   "cell_type": "code",
   "execution_count": null,
   "id": "bce73557-eabb-429d-b2ee-93fbb7b122f9",
   "metadata": {},
   "outputs": [],
   "source": [
    "\"\"\"Q4. Explain REST and SOAP Architecture. Mention shortcomings of SOAP ?\"\"\"\n",
    "\n",
    "Ans.\n",
    "\n",
    "REST Architecture:\n",
    "\n",
    "  *  REST is like having a simple conversation between systems over the internet.\n",
    "  *  It uses standard web protocols (URLs and HTTP) that we use every day to browse the internet.\n",
    "  *  It follows a \"request and response\" approach, where one system sends a request for data, and \n",
    "     the other system responds with the requested data.\n",
    "  *  It is lightweight and easy to understand, making it suitable for most applications.\n",
    "     It allows flexibility in how data is requested and sent.\n",
    "    \n",
    "SOAP Architecture:\n",
    "    \n",
    "  * SOAP is like having a structured and formalized conversation between systems.\n",
    "  * It uses a standardized set of rules & formats for sending messages b/w systems,typically based on XML.\n",
    "  * SOAP can handle complex operations, security features, and other advanced functionalities \n",
    "    required in enterprise systems.\n",
    "  * It can use different protocols (like HTTP, SMTP, etc.) for communication, providing \n",
    "    flexibility in system integration.\n",
    "    \n",
    "Mention shortcomings of SOAP:\n",
    "    SOAP is shortcomings include complexity, overhead, limited compatibility, lack of simplicity, \n",
    "    and potential firewall and proxy issues. These factors can make SOAP less favorable in scenarios\n",
    "    where lightweight, simpler, and more easily compatible communication methods like REST are sufficient."
   ]
  },
  {
   "cell_type": "code",
   "execution_count": null,
   "id": "7d9201f7-3b6d-4ee9-81c2-3d7ca5fd34d3",
   "metadata": {},
   "outputs": [],
   "source": [
    "\"\"\"Q5. Differentiate between REST and SOAP ?\"\"\"\n",
    "\n",
    "Ans.\n",
    "    \t REST (Representational State Transfer)\n",
    " i. Uses lightweight communication over HTTP.\n",
    "ii. Primarily uses JSON or XML for data exchange.\n",
    "iii. Relies on standard HTTP methods (GET, POST, PUT, DELETE).\n",
    "iv. Typically lacks a formal contract or description language.\n",
    "v. Commonly used in web development and APIs.\n",
    "vi.Highly scalable due to its lightweight nature.\n",
    "\n",
    "\n",
    "        SOAP (Simple Object Access Protocol)\n",
    " i. Uses XML-based messaging over various protocols.\n",
    "ii. Uses XML for message formatting.\n",
    "iii. Can operate over various protocols (HTTP, SMTP, etc.).\n",
    "iv. Described using Web Services Description Language (WSDL).\n",
    "v. Frequently used in enterprise-level applications.\n",
    "vi. Scales well but can become complex with advanced features."
   ]
  }
 ],
 "metadata": {
  "kernelspec": {
   "display_name": "Python 3 (ipykernel)",
   "language": "python",
   "name": "python3"
  },
  "language_info": {
   "codemirror_mode": {
    "name": "ipython",
    "version": 3
   },
   "file_extension": ".py",
   "mimetype": "text/x-python",
   "name": "python",
   "nbconvert_exporter": "python",
   "pygments_lexer": "ipython3",
   "version": "3.10.8"
  }
 },
 "nbformat": 4,
 "nbformat_minor": 5
}
