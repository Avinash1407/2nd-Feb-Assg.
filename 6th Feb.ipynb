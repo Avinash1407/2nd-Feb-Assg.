{
 "cells": [
  {
   "cell_type": "code",
   "execution_count": null,
   "id": "9eefcced-b72c-461b-a971-97756117c765",
   "metadata": {},
   "outputs": [],
   "source": [
    "\"\"\"Q1. Create a function which will take a list as an argument and return the product of all the numbers\n",
    "after creating a flat list.\n",
    "Use the below-given list as an argument for your function.\"\"\"\n",
    "\n",
    "list1 = [1,2,3,4, [44,55,66, True], False, (34,56,78,89,34), {1,2,3,3,2,1}, {1:34, \"key2\": [55, 67, 78, 89], 4: (45, 22, 61, 34)}, [56, 'data science'], 'Machine Learning']\n"
   ]
  },
  {
   "cell_type": "code",
   "execution_count": 49,
   "id": "c740a753-0d39-4b28-9cd8-899d7d2e54de",
   "metadata": {},
   "outputs": [
    {
     "ename": "AttributeError",
     "evalue": "'int' object has no attribute 'isdigit'",
     "output_type": "error",
     "traceback": [
      "\u001b[0;31m---------------------------------------------------------------------------\u001b[0m",
      "\u001b[0;31mAttributeError\u001b[0m                            Traceback (most recent call last)",
      "Cell \u001b[0;32mIn[49], line 22\u001b[0m\n\u001b[1;32m     20\u001b[0m product \u001b[38;5;241m=\u001b[39m \u001b[38;5;241m1\u001b[39m\n\u001b[1;32m     21\u001b[0m \u001b[38;5;28;01mfor\u001b[39;00m i \u001b[38;5;129;01min\u001b[39;00m flat_list1:\n\u001b[0;32m---> 22\u001b[0m     \u001b[38;5;28;01mif\u001b[39;00m \u001b[43mi\u001b[49m\u001b[38;5;241;43m.\u001b[39;49m\u001b[43misdigit\u001b[49m():\n\u001b[1;32m     23\u001b[0m         product \u001b[38;5;241m*\u001b[39m\u001b[38;5;241m=\u001b[39m i\n\u001b[1;32m     24\u001b[0m \u001b[38;5;28mprint\u001b[39m(product)\n",
      "\u001b[0;31mAttributeError\u001b[0m: 'int' object has no attribute 'isdigit'"
     ]
    }
   ],
   "source": [
    "def flatten_and_filter(lst):\n",
    "    flat_list = []\n",
    "    for item in lst:\n",
    "        if isinstance(item, list):\n",
    "            flat_list.extend(flatten_and_filter(item))\n",
    "        elif isinstance(item, tuple):\n",
    "            flat_list.extend(flatten_and_filter(item))\n",
    "        elif isinstance(item, dict):\n",
    "            for key, value in item.items():\n",
    "                flat_list.extend(flatten_and_filter([key]))\n",
    "                flat_list.extend(flatten_and_filter([value]))\n",
    "        elif isinstance(item, (int, float)):\n",
    "            flat_list.append(item)\n",
    "    return flat_list\n",
    "\n",
    "list1 = [1,2,3,4, [44,55,66, True], False, (34,56,78,89,34), {1,2,3,3,2,1}, {1:34, \"key2\": [55, 67, 78, 89], 4: (45, 22, 61, 34)}, [56, 'data science'], 'Machine Learning']\n",
    "\n",
    "flat_list1 = flatten_and_filter(list1)\n",
    "\n",
    "product = 1\n",
    "for i in flat_list1:\n",
    "    if i.isdigit():\n",
    "        product *= i\n",
    "print(product)"
   ]
  },
  {
   "cell_type": "code",
   "execution_count": null,
   "id": "ed9881fa-28bf-40e8-903d-0de7b4826fd0",
   "metadata": {},
   "outputs": [],
   "source": []
  },
  {
   "cell_type": "code",
   "execution_count": 37,
   "id": "acc3bc83-3f6f-489c-a061-866450ced6db",
   "metadata": {},
   "outputs": [
    {
     "name": "stdout",
     "output_type": "stream",
     "text": [
      "r$dzmg$gl$yvxlnv$z$wzgz$hxrvmgrhg.\n"
     ]
    }
   ],
   "source": [
    "\"\"\"Q2. Write a python program for encrypting a message sent to you by your friend. The logic of encryption\n",
    "should be such that, for a the output should be z. For b, the output should be y. For c, the output should\n",
    "be x respectively. Also, the whitespace should be replaced with a dollar sign. Keep the punctuation\n",
    "marks unchanged.\n",
    "Input Sentence: I want to become a Data Scientist.\"\"\"\n",
    "\n",
    "string = (\"I want to become a Data Scientist.\").lower()\n",
    "eny_string = \"\"\n",
    "for i in string:\n",
    "    if i == \" \":\n",
    "        eny_string += \"$\"\n",
    "    elif i.isalpha():\n",
    "        eny_string += chr(219-ord(i))\n",
    "    else:\n",
    "        eny_string += i\n",
    "print(eny_string)"
   ]
  },
  {
   "cell_type": "code",
   "execution_count": null,
   "id": "b30215f6-818f-4f5b-8c60-6cefaaaccf41",
   "metadata": {},
   "outputs": [],
   "source": []
  }
 ],
 "metadata": {
  "kernelspec": {
   "display_name": "Python 3 (ipykernel)",
   "language": "python",
   "name": "python3"
  },
  "language_info": {
   "codemirror_mode": {
    "name": "ipython",
    "version": 3
   },
   "file_extension": ".py",
   "mimetype": "text/x-python",
   "name": "python",
   "nbconvert_exporter": "python",
   "pygments_lexer": "ipython3",
   "version": "3.10.8"
  }
 },
 "nbformat": 4,
 "nbformat_minor": 5
}
