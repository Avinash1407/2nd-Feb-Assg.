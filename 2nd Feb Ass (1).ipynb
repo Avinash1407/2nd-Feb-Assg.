{
 "cells": [
  {
   "cell_type": "code",
   "execution_count": 4,
   "id": "8cd1c565-9199-445f-b373-31270c9583cd",
   "metadata": {},
   "outputs": [
    {
     "name": "stdout",
     "output_type": "stream",
     "text": [
      "apple\n",
      "banana\n",
      "cherry\n"
     ]
    }
   ],
   "source": [
    "\"\"\"Q1.Explain with an example each when to use a for loop and a while loop.\"\"\"\n",
    "\n",
    "#A for loop is used when you know ahead of time how many times you want to loop through a block of code.\n",
    "#For Example,\n",
    "fruits = ['apple', 'banana', 'cherry']\n",
    "for fruit in fruits:\n",
    "    print(fruit)"
   ]
  },
  {
   "cell_type": "code",
   "execution_count": 9,
   "id": "d2f5b5ae-9ea6-4585-aa98-f6e75643de9e",
   "metadata": {},
   "outputs": [
    {
     "name": "stdin",
     "output_type": "stream",
     "text": [
      "Enter a number:  avi\n"
     ]
    },
    {
     "name": "stdout",
     "output_type": "stream",
     "text": [
      "Invalid input, try again.\n"
     ]
    },
    {
     "name": "stdin",
     "output_type": "stream",
     "text": [
      "Enter a number:  king\n"
     ]
    },
    {
     "name": "stdout",
     "output_type": "stream",
     "text": [
      "Invalid input, try again.\n"
     ]
    },
    {
     "name": "stdin",
     "output_type": "stream",
     "text": [
      "Enter a number:  235\n"
     ]
    }
   ],
   "source": [
    "#A while loop is used when you don't know ahead of time how many times you want to loop through a block of code.\n",
    "#For Example,\n",
    "while True:\n",
    "    user_input = input('Enter a number: ')\n",
    "    if user_input.isdigit():\n",
    "        break\n",
    "    else:\n",
    "        print('Invalid input, try again.')"
   ]
  },
  {
   "cell_type": "code",
   "execution_count": 1,
   "id": "60abf1ed-cf02-4f95-8b7a-c867e0b45bdf",
   "metadata": {},
   "outputs": [
    {
     "name": "stdout",
     "output_type": "stream",
     "text": [
      "Sum :  55\n",
      "Product :  3628800\n"
     ]
    }
   ],
   "source": [
    "\"\"\"Q2. Write a python program to print the sum and product of the first 10 natural numbers using for\n",
    "and while loop.\"\"\"\n",
    "\n",
    "sum = 0\n",
    "product = 1\n",
    "for i in range(1,11):\n",
    "    sum = sum + i\n",
    "    product *= i\n",
    "print(\"Sum : \",sum)\n",
    "print(\"Product : \",product)"
   ]
  },
  {
   "cell_type": "code",
   "execution_count": 2,
   "id": "b5f9b890-ed92-4729-a81e-664b492969dc",
   "metadata": {},
   "outputs": [
    {
     "name": "stdin",
     "output_type": "stream",
     "text": [
      "Enter the number of units consumed :  310\n"
     ]
    },
    {
     "name": "stdout",
     "output_type": "stream",
     "text": [
      "2250.0\n"
     ]
    }
   ],
   "source": [
    "\"\"\"Q3. Create a python program to compute the electricity bill for a household.\n",
    "    Your program must pass this test case: when the unit of electricity consumed by the user in a month is\n",
    "310, the total electricity bill should be 2250.\"\"\"\n",
    "\n",
    "\n",
    "units = int(input(\"Enter the number of units consumed : \"))\n",
    "bill = 0.0\n",
    "\n",
    "if units <= 100 :\n",
    "    bill = units * 4.5\n",
    "elif units > 100 and units <= 200 :\n",
    "    bill = (100 * 4.5) + ((units-100) * 6) \n",
    "elif units > 200 and units <= 300 :\n",
    "    bill = (100 * 4.5) + (100 * 6) + ((units-200) * 10) \n",
    "else :\n",
    "    bill = (100 * 4.5) + (100 * 6) + (100 * 10) + ((units-300) * 20)\n",
    "\n",
    "print(bill)"
   ]
  },
  {
   "cell_type": "code",
   "execution_count": 7,
   "id": "4d9ef85e-fc88-48b0-890b-93ba4e42c8d9",
   "metadata": {},
   "outputs": [
    {
     "name": "stdout",
     "output_type": "stream",
     "text": [
      "[2, 4, 5, 6, 8, 10, 12, 14, 15, 16, 18, 20, 22, 24, 25, 26, 28, 30, 32, 34, 35, 36, 38, 40, 42, 44, 45, 46, 48, 50, 52, 54, 55, 56, 58, 60, 62, 64, 65, 66, 68, 70, 72, 74, 75, 76, 78, 80, 82, 84, 85, 86, 88, 90, 92, 94, 95, 96, 98, 100] \n",
      "\n",
      "[2, 4, 5, 6, 8, 10, 12, 14, 15, 16, 18, 20, 22, 24, 25, 26, 28, 30, 32, 34, 35, 36, 38, 40, 42, 44, 45, 46, 48, 50, 52, 54, 55, 56, 58, 60, 62, 64, 65, 66, 68, 70, 72, 74, 75, 76, 78, 80, 82, 84, 85, 86, 88, 90, 92, 94, 95, 96, 98, 100]\n"
     ]
    }
   ],
   "source": [
    "\"\"\"Q4. Create a list of numbers from 1 to 100. Use for loop and while loop to calculate the cube of each\n",
    "number and if the cube of that number is divisible by 4 or 5 then append that number in a list and print\n",
    "that list.\"\"\"\n",
    "\n",
    "l = list(range(1,101))\n",
    "\n",
    "l_for = []\n",
    "l_while = []\n",
    "\n",
    "for i in l :\n",
    "    cube = i ** 3\n",
    "    if(cube % 4 == 0 or cube % 5 == 0):\n",
    "        l_for.append(i)\n",
    "print(l_for,\"\\n\")\n",
    "\n",
    "\n",
    "i = 1\n",
    "while i <= 100:\n",
    "    cube1 = i**3\n",
    "    if(cube1 % 4 == 0 or cube1 % 5 == 0):\n",
    "        l_while.append(i)\n",
    "    i = i+1\n",
    "print(l_while)"
   ]
  },
  {
   "cell_type": "code",
   "execution_count": 6,
   "id": "22491510-1684-463f-89b7-b195154ff200",
   "metadata": {},
   "outputs": [
    {
     "data": {
      "text/plain": [
       "12"
      ]
     },
     "execution_count": 6,
     "metadata": {},
     "output_type": "execute_result"
    }
   ],
   "source": [
    "\"\"\"Q5. Write a program to filter count vowels in the below-given string.\n",
    "string = \"I want to become a data scientist\\\"\"\"\"\n",
    "\n",
    "s = \"I want to become a data scientist\"\n",
    "count = 0\n",
    "for i in s :\n",
    "    if(i.lower() in ['a','e','i','o','u']):\n",
    "        count = count + 1\n",
    "count"
   ]
  },
  {
   "cell_type": "code",
   "execution_count": null,
   "id": "7b68e076-14ba-4fcb-b5ee-fa57b225bcca",
   "metadata": {},
   "outputs": [],
   "source": []
  }
 ],
 "metadata": {
  "kernelspec": {
   "display_name": "Python 3 (ipykernel)",
   "language": "python",
   "name": "python3"
  },
  "language_info": {
   "codemirror_mode": {
    "name": "ipython",
    "version": 3
   },
   "file_extension": ".py",
   "mimetype": "text/x-python",
   "name": "python",
   "nbconvert_exporter": "python",
   "pygments_lexer": "ipython3",
   "version": "3.10.8"
  }
 },
 "nbformat": 4,
 "nbformat_minor": 5
}
